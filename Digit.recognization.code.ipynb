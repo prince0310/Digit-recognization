{
 "cells": [
  {
   "cell_type": "markdown",
   "id": "def77bb8",
   "metadata": {},
   "source": [
    "## Digit recognization using Tensorflow and Keras"
   ]
  },
  {
   "cell_type": "markdown",
   "id": "75d01b64",
   "metadata": {},
   "source": [
    "### importing usefull library"
   ]
  },
  {
   "cell_type": "code",
   "execution_count": 1,
   "id": "f8438d09",
   "metadata": {},
   "outputs": [],
   "source": [
    "import tensorflow as tf\n",
    "from tensorflow import keras\n",
    "import numpy as np\n",
    "import matplotlib.pyplot as plt\n",
    "%matplotlib inline"
   ]
  },
  {
   "cell_type": "markdown",
   "id": "0df3221c",
   "metadata": {},
   "source": [
    "### Loading the data from keras"
   ]
  },
  {
   "cell_type": "code",
   "execution_count": 2,
   "id": "331bf84f",
   "metadata": {},
   "outputs": [],
   "source": [
    "(x_train , y_train),(x_test,y_test) = keras.datasets.mnist.load_data()"
   ]
  },
  {
   "cell_type": "markdown",
   "id": "b0aa2e3e",
   "metadata": {},
   "source": [
    "### Scalling the data for better accuracy"
   ]
  },
  {
   "cell_type": "code",
   "execution_count": 4,
   "id": "04a3bd15",
   "metadata": {},
   "outputs": [],
   "source": [
    "x_train = x_train/255\n",
    "x_test  = x_test/255"
   ]
  },
  {
   "cell_type": "markdown",
   "id": "3903bb1c",
   "metadata": {},
   "source": [
    "### Flattening the data "
   ]
  },
  {
   "cell_type": "code",
   "execution_count": 5,
   "id": "1ba345ec",
   "metadata": {},
   "outputs": [],
   "source": [
    "x_train_flatten = x_train.reshape(len(x_train),784)\n",
    "x_test_flatten  = x_test.reshape(len(x_test),784)"
   ]
  },
  {
   "cell_type": "markdown",
   "id": "7eedb10d",
   "metadata": {},
   "source": [
    "### Defining a neural network "
   ]
  },
  {
   "cell_type": "code",
   "execution_count": 6,
   "id": "928418eb",
   "metadata": {},
   "outputs": [],
   "source": [
    "model = keras.Sequential([\n",
    "    keras.layers.Dense(10,input_shape = (784,),activation = 'sigmoid')\n",
    "])"
   ]
  },
  {
   "cell_type": "markdown",
   "id": "af7a3df9",
   "metadata": {},
   "source": [
    "### Compile the neural network"
   ]
  },
  {
   "cell_type": "code",
   "execution_count": 7,
   "id": "09ea01d4",
   "metadata": {},
   "outputs": [],
   "source": [
    "model.compile(\n",
    "    optimizer = \"adam\",\n",
    "    loss = \"sparse_categorical_crossentropy\",\n",
    "    metrics = ['accuracy']\n",
    ")"
   ]
  },
  {
   "cell_type": "markdown",
   "id": "aaa7f22b",
   "metadata": {},
   "source": [
    "### Fitting the model"
   ]
  },
  {
   "cell_type": "code",
   "execution_count": 9,
   "id": "d61849a7",
   "metadata": {},
   "outputs": [
    {
     "name": "stdout",
     "output_type": "stream",
     "text": [
      "Epoch 1/5\n",
      "1875/1875 [==============================] - 4s 2ms/step - loss: 0.3040 - accuracy: 0.9150\n",
      "Epoch 2/5\n",
      "1875/1875 [==============================] - 4s 2ms/step - loss: 0.2831 - accuracy: 0.9214\n",
      "Epoch 3/5\n",
      "1875/1875 [==============================] - 4s 2ms/step - loss: 0.2724 - accuracy: 0.9239\n",
      "Epoch 4/5\n",
      "1875/1875 [==============================] - 5s 3ms/step - loss: 0.2670 - accuracy: 0.9255\n",
      "Epoch 5/5\n",
      "1875/1875 [==============================] - 5s 2ms/step - loss: 0.2611 - accuracy: 0.9273\n"
     ]
    },
    {
     "data": {
      "text/plain": [
       "<tensorflow.python.keras.callbacks.History at 0x1e6c7a90f40>"
      ]
     },
     "execution_count": 9,
     "metadata": {},
     "output_type": "execute_result"
    }
   ],
   "source": [
    "model.fit(x_train_flatten ,y_train,epochs = 5)"
   ]
  },
  {
   "cell_type": "markdown",
   "id": "acc5ca78",
   "metadata": {},
   "source": [
    "### Testing our model "
   ]
  },
  {
   "cell_type": "code",
   "execution_count": 10,
   "id": "2a340405",
   "metadata": {},
   "outputs": [
    {
     "name": "stdout",
     "output_type": "stream",
     "text": [
      "313/313 [==============================] - 1s 1ms/step - loss: 0.2714 - accuracy: 0.9247\n"
     ]
    },
    {
     "data": {
      "text/plain": [
       "[0.2714255452156067, 0.9247000217437744]"
      ]
     },
     "execution_count": 10,
     "metadata": {},
     "output_type": "execute_result"
    }
   ],
   "source": [
    "model.evaluate(x_test_flatten ,y_test)"
   ]
  },
  {
   "cell_type": "markdown",
   "id": "9b9e5d87",
   "metadata": {},
   "source": [
    "### loading the image of digit  want to predict"
   ]
  },
  {
   "cell_type": "code",
   "execution_count": 11,
   "id": "16912544",
   "metadata": {},
   "outputs": [
    {
     "data": {
      "text/plain": [
       "<matplotlib.image.AxesImage at 0x1e6c7b94550>"
      ]
     },
     "execution_count": 11,
     "metadata": {},
     "output_type": "execute_result"
    },
    {
     "data": {
      "image/png": "[encoded data removed]",
      "text/plain": [
       "<Figure size 288x288 with 1 Axes>"
      ]
     },
     "metadata": {
      "needs_background": "light"
     },
     "output_type": "display_data"
    }
   ],
   "source": [
    "plt.matshow(x_test[0])"
   ]
  },
  {
   "cell_type": "markdown",
   "id": "156106c6",
   "metadata": {},
   "source": [
    "### predicting the digit"
   ]
  },
  {
   "cell_type": "code",
   "execution_count": 14,
   "id": "dfb8f6d7",
   "metadata": {},
   "outputs": [],
   "source": [
    "y_predict = model.predict(x_test_flatten)"
   ]
  },
  {
   "cell_type": "markdown",
   "id": "40c3a622",
   "metadata": {},
   "source": [
    "### printing the maximum probable number"
   ]
  },
  {
   "cell_type": "code",
   "execution_count": 16,
   "id": "7351db90",
   "metadata": {},
   "outputs": [
    {
     "data": {
      "text/plain": [
       "7"
      ]
     },
     "execution_count": 16,
     "metadata": {},
     "output_type": "execute_result"
    }
   ],
   "source": [
    "np.argmax(y_predict[0])"
   ]
  }
 ],
 "metadata": {
  "kernelspec": {
   "display_name": "Python 3",
   "language": "python",
   "name": "python3"
  },
  "language_info": {
   "codemirror_mode": {
    "name": "ipython",
    "version": 3
   },
   "file_extension": ".py",
   "mimetype": "text/x-python",
   "name": "python",
   "nbconvert_exporter": "python",
   "pygments_lexer": "ipython3",
   "version": "3.8.8"
  }
 },
 "nbformat": 4,
 "nbformat_minor": 5
}
